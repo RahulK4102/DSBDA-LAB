{
 "cells": [
  {
   "cell_type": "markdown",
   "id": "b7759be1",
   "metadata": {},
   "source": [
    "## ANALYTICS III Iris Dataset - Naive Bayes Theorem"
   ]
  },
  {
   "cell_type": "code",
   "execution_count": 3,
   "id": "04a6b0a0",
   "metadata": {},
   "outputs": [],
   "source": [
    "import pandas as pd\n",
    "import numpy as np\n",
    "import matplotlib.pyplot as plt\n",
    "import seaborn as sns\n",
    "from sklearn.datasets import load_iris"
   ]
  },
  {
   "cell_type": "markdown",
   "id": "2eedd527",
   "metadata": {},
   "source": [
    "## Load dataset"
   ]
  },
  {
   "cell_type": "code",
   "execution_count": 9,
   "id": "932d8e72",
   "metadata": {},
   "outputs": [],
   "source": [
    "iris_data = load_iris(as_frame = True)"
   ]
  },
  {
   "cell_type": "code",
   "execution_count": 13,
   "id": "2ed42293",
   "metadata": {},
   "outputs": [],
   "source": [
    "x = pd.DataFrame(iris['data'], columns=iris['feature_names'])\n",
    "y = pd.DataFrame(iris['target'], columns=['target'])"
   ]
  },
  {
   "cell_type": "code",
   "execution_count": 14,
   "id": "60a2a1ed",
   "metadata": {},
   "outputs": [
    {
     "data": {
      "text/html": [
       "<div>\n",
       "<style scoped>\n",
       "    .dataframe tbody tr th:only-of-type {\n",
       "        vertical-align: middle;\n",
       "    }\n",
       "\n",
       "    .dataframe tbody tr th {\n",
       "        vertical-align: top;\n",
       "    }\n",
       "\n",
       "    .dataframe thead th {\n",
       "        text-align: right;\n",
       "    }\n",
       "</style>\n",
       "<table border=\"1\" class=\"dataframe\">\n",
       "  <thead>\n",
       "    <tr style=\"text-align: right;\">\n",
       "      <th></th>\n",
       "      <th>sepal length (cm)</th>\n",
       "      <th>sepal width (cm)</th>\n",
       "      <th>petal length (cm)</th>\n",
       "      <th>petal width (cm)</th>\n",
       "    </tr>\n",
       "  </thead>\n",
       "  <tbody>\n",
       "    <tr>\n",
       "      <th>0</th>\n",
       "      <td>5.1</td>\n",
       "      <td>3.5</td>\n",
       "      <td>1.4</td>\n",
       "      <td>0.2</td>\n",
       "    </tr>\n",
       "    <tr>\n",
       "      <th>1</th>\n",
       "      <td>4.9</td>\n",
       "      <td>3.0</td>\n",
       "      <td>1.4</td>\n",
       "      <td>0.2</td>\n",
       "    </tr>\n",
       "    <tr>\n",
       "      <th>2</th>\n",
       "      <td>4.7</td>\n",
       "      <td>3.2</td>\n",
       "      <td>1.3</td>\n",
       "      <td>0.2</td>\n",
       "    </tr>\n",
       "    <tr>\n",
       "      <th>3</th>\n",
       "      <td>4.6</td>\n",
       "      <td>3.1</td>\n",
       "      <td>1.5</td>\n",
       "      <td>0.2</td>\n",
       "    </tr>\n",
       "    <tr>\n",
       "      <th>4</th>\n",
       "      <td>5.0</td>\n",
       "      <td>3.6</td>\n",
       "      <td>1.4</td>\n",
       "      <td>0.2</td>\n",
       "    </tr>\n",
       "  </tbody>\n",
       "</table>\n",
       "</div>"
      ],
      "text/plain": [
       "   sepal length (cm)  sepal width (cm)  petal length (cm)  petal width (cm)\n",
       "0                5.1               3.5                1.4               0.2\n",
       "1                4.9               3.0                1.4               0.2\n",
       "2                4.7               3.2                1.3               0.2\n",
       "3                4.6               3.1                1.5               0.2\n",
       "4                5.0               3.6                1.4               0.2"
      ]
     },
     "execution_count": 14,
     "metadata": {},
     "output_type": "execute_result"
    }
   ],
   "source": [
    "x.head()"
   ]
  },
  {
   "cell_type": "code",
   "execution_count": 15,
   "id": "29434e38",
   "metadata": {},
   "outputs": [
    {
     "data": {
      "text/html": [
       "<div>\n",
       "<style scoped>\n",
       "    .dataframe tbody tr th:only-of-type {\n",
       "        vertical-align: middle;\n",
       "    }\n",
       "\n",
       "    .dataframe tbody tr th {\n",
       "        vertical-align: top;\n",
       "    }\n",
       "\n",
       "    .dataframe thead th {\n",
       "        text-align: right;\n",
       "    }\n",
       "</style>\n",
       "<table border=\"1\" class=\"dataframe\">\n",
       "  <thead>\n",
       "    <tr style=\"text-align: right;\">\n",
       "      <th></th>\n",
       "      <th>target</th>\n",
       "    </tr>\n",
       "  </thead>\n",
       "  <tbody>\n",
       "    <tr>\n",
       "      <th>0</th>\n",
       "      <td>0</td>\n",
       "    </tr>\n",
       "    <tr>\n",
       "      <th>1</th>\n",
       "      <td>0</td>\n",
       "    </tr>\n",
       "    <tr>\n",
       "      <th>2</th>\n",
       "      <td>0</td>\n",
       "    </tr>\n",
       "    <tr>\n",
       "      <th>3</th>\n",
       "      <td>0</td>\n",
       "    </tr>\n",
       "    <tr>\n",
       "      <th>4</th>\n",
       "      <td>0</td>\n",
       "    </tr>\n",
       "  </tbody>\n",
       "</table>\n",
       "</div>"
      ],
      "text/plain": [
       "   target\n",
       "0       0\n",
       "1       0\n",
       "2       0\n",
       "3       0\n",
       "4       0"
      ]
     },
     "execution_count": 15,
     "metadata": {},
     "output_type": "execute_result"
    }
   ],
   "source": [
    "y.head()"
   ]
  },
  {
   "cell_type": "code",
   "execution_count": 17,
   "id": "fc3e896f",
   "metadata": {},
   "outputs": [
    {
     "data": {
      "text/plain": [
       "array([[<AxesSubplot:title={'center':'sepal length (cm)'}>,\n",
       "        <AxesSubplot:title={'center':'sepal width (cm)'}>],\n",
       "       [<AxesSubplot:title={'center':'petal length (cm)'}>,\n",
       "        <AxesSubplot:title={'center':'petal width (cm)'}>]], dtype=object)"
      ]
     },
     "execution_count": 17,
     "metadata": {},
     "output_type": "execute_result"
    },
    {
     "data": {
      "image/png": "[encoded data removed]",
      "text/plain": [
       "<Figure size 432x288 with 4 Axes>"
      ]
     },
     "metadata": {
      "needs_background": "light"
     },
     "output_type": "display_data"
    }
   ],
   "source": [
    "x.hist()"
   ]
  },
  {
   "cell_type": "code",
   "execution_count": 18,
   "id": "07cb5c1c",
   "metadata": {},
   "outputs": [
    {
     "data": {
      "text/plain": [
       "array([[<AxesSubplot:title={'center':'target'}>]], dtype=object)"
      ]
     },
     "execution_count": 18,
     "metadata": {},
     "output_type": "execute_result"
    },
    {
     "data": {
      "image/png": "[encoded data removed]",
      "text/plain": [
       "<Figure size 432x288 with 1 Axes>"
      ]
     },
     "metadata": {
      "needs_background": "light"
     },
     "output_type": "display_data"
    }
   ],
   "source": [
    "y.hist()"
   ]
  },
  {
   "cell_type": "markdown",
   "id": "4b35a948",
   "metadata": {},
   "source": [
    "## Train Test Split"
   ]
  },
  {
   "cell_type": "code",
   "execution_count": 56,
   "id": "46a78965",
   "metadata": {},
   "outputs": [],
   "source": [
    "from sklearn.model_selection import train_test_split\n",
    "x_train, x_test, y_train, y_test = train_test_split(x, y, test_size=0.25, random_state=133)"
   ]
  },
  {
   "cell_type": "code",
   "execution_count": 57,
   "id": "3674a2e6",
   "metadata": {},
   "outputs": [],
   "source": [
    "## Feature Scaling"
   ]
  },
  {
   "cell_type": "code",
   "execution_count": 58,
   "id": "3685a9a5",
   "metadata": {},
   "outputs": [],
   "source": [
    "from sklearn.preprocessing import StandardScaler\n",
    "std_scaler = StandardScaler()"
   ]
  },
  {
   "cell_type": "code",
   "execution_count": 59,
   "id": "5f020924",
   "metadata": {},
   "outputs": [
    {
     "data": {
      "text/plain": [
       "array([[-0.99152669,  1.96872963, -1.22808711, -1.22657149],\n",
       "       [-1.11223429,  0.96303878, -1.40503277, -1.22657149],\n",
       "       [ 1.18121006,  0.20877065,  0.65933322,  1.36285721],\n",
       "       [-1.23294189, -1.55118834, -0.40234072, -0.40885716],\n",
       "       [ 0.09484168, -0.79692021,  0.65933322,  0.40885716],\n",
       "       [-1.59506468,  1.46588421, -1.75892408, -1.49914293],\n",
       "       [ 2.14687084, -1.04834292,  1.72100716,  1.36285721],\n",
       "       [ 0.21554928, -0.04265207,  0.36442379,  0.13628572],\n",
       "       [-1.11223429, -1.80261106, -0.40234072, -0.40885716],\n",
       "       [ 0.33625688, -2.05403377,  0.30544191,  0.27257144],\n",
       "       [-0.02586591, -0.04265207,  0.12849625,  0.27257144],\n",
       "       [-0.38798871, -0.54549749,  0.54136945,  0.95400005],\n",
       "       [ 0.93979487,  0.20877065,  0.42340568,  0.27257144],\n",
       "       [ 0.93979487, -0.04265207,  0.7183151 ,  1.36285721],\n",
       "       [ 0.93979487,  0.71161607,  1.01322453,  1.63542865],\n",
       "       [-0.8708191 ,  1.2144615 , -1.46401465, -1.49914293],\n",
       "       [ 1.18121006,  0.20877065,  0.83627887,  1.09028577],\n",
       "       [-0.5086963 ,  1.2144615 , -1.58197843, -1.49914293],\n",
       "       [-0.14657351, -1.04834292,  0.01053248, -0.13628572],\n",
       "       [ 2.14687084, -0.54549749,  1.60304338,  0.95400005],\n",
       "       [ 2.38828604,  1.96872963,  1.42609773,  0.95400005],\n",
       "       [ 0.57767207,  0.46019336,  0.77729699,  1.36285721],\n",
       "       [-0.38798871, -0.79692021,  0.12849625,  0.        ],\n",
       "       [-0.26728111, -1.04834292, -0.28437695, -0.40885716],\n",
       "       [-0.5086963 , -1.29976563,  0.01053248,  0.        ],\n",
       "       [-1.47435708,  0.46019336, -1.58197843, -1.49914293],\n",
       "       [-1.35364949, -0.04265207, -1.52299654, -1.36285721],\n",
       "       [-0.6294039 ,  1.71730692, -1.46401465, -1.49914293],\n",
       "       [-0.6294039 , -0.04265207,  0.30544191,  0.27257144],\n",
       "       [ 0.45696448, -0.79692021,  0.54136945,  0.6814286 ],\n",
       "       [ 0.57767207, -0.54549749,  0.95424265,  1.09028577],\n",
       "       [-0.99152669,  0.96303878, -1.46401465, -1.49914293],\n",
       "       [ 1.06050246,  0.46019336,  1.1311883 ,  1.36285721],\n",
       "       [-0.5086963 , -1.55118834, -0.10743129, -0.27257144],\n",
       "       [-0.99152669,  1.71730692, -1.46401465, -1.22657149],\n",
       "       [ 0.21554928, -0.54549749,  0.42340568, -0.13628572],\n",
       "       [-0.26728111, -0.54549749,  0.06951436,  0.        ],\n",
       "       [-1.59506468,  0.46019336, -1.52299654, -1.49914293],\n",
       "       [ 0.09484168, -0.04265207,  0.48238756,  0.6814286 ],\n",
       "       [ 0.33625688,  0.96303878,  0.83627887,  1.36285721],\n",
       "       [-1.35364949, -0.04265207, -1.52299654, -1.63542865],\n",
       "       [ 0.69837967, -0.04265207,  1.07220642,  1.22657149],\n",
       "       [ 0.81908727, -0.29407478,  0.36442379,  0.        ],\n",
       "       [ 2.14687084, -0.04265207,  1.24915207,  1.36285721],\n",
       "       [-1.11223429,  0.71161607, -1.52299654, -1.49914293],\n",
       "       [-0.14657351, -0.54549749,  0.65933322,  1.49914293],\n",
       "       [ 0.33625688, -0.54549749,  0.48238756,  0.6814286 ],\n",
       "       [-0.26728111, -0.29407478,  0.12849625,  0.        ],\n",
       "       [ 2.02616325, -0.04265207,  1.5440615 ,  1.09028577],\n",
       "       [-1.83647988,  0.46019336, -1.58197843, -1.49914293],\n",
       "       [-0.14657351, -0.79692021,  0.06951436, -0.40885716],\n",
       "       [-0.5086963 , -1.55118834, -0.16641318, -0.40885716],\n",
       "       [ 0.57767207,  0.46019336,  0.30544191,  0.27257144],\n",
       "       [-0.26728111, -0.04265207,  0.12849625, -0.13628572],\n",
       "       [-1.11223429,  1.2144615 , -1.58197843, -1.36285721],\n",
       "       [ 1.54333285, -0.04265207,  1.07220642,  0.40885716],\n",
       "       [-0.6294039 ,  2.22015235, -1.58197843, -1.22657149],\n",
       "       [-1.71577228, -1.80261106, -1.58197843, -1.36285721],\n",
       "       [ 0.21554928, -0.29407478,  0.42340568,  0.13628572],\n",
       "       [-0.8708191 , -0.79692021, -0.04844941,  0.13628572],\n",
       "       [-1.35364949,  0.20877065, -1.40503277, -1.49914293],\n",
       "       [ 1.18121006,  0.46019336,  1.01322453,  1.36285721],\n",
       "       [-0.8708191 ,  2.72299777, -1.46401465, -1.63542865],\n",
       "       [-0.26728111, -0.54549749,  0.30544191,  0.        ],\n",
       "       [-0.6294039 ,  0.96303878, -1.46401465, -1.22657149],\n",
       "       [-0.02586591, -0.04265207,  0.65933322,  0.6814286 ],\n",
       "       [ 0.21554928, -0.54549749,  0.01053248,  0.        ],\n",
       "       [ 1.06050246, -0.04265207,  0.89526076,  1.09028577],\n",
       "       [ 0.57767207, -0.29407478,  0.18747814,  0.        ],\n",
       "       [ 0.69837967, -0.04265207,  0.89526076,  0.6814286 ],\n",
       "       [ 0.57767207, -0.54549749,  0.95424265,  1.22657149],\n",
       "       [ 0.21554928, -0.04265207,  0.54136945,  0.6814286 ],\n",
       "       [-0.38798871, -0.04265207,  0.06951436,  0.        ],\n",
       "       [-0.26728111, -1.29976563,  0.60035133,  0.95400005],\n",
       "       [ 0.45696448, -0.54549749,  0.65933322,  0.27257144],\n",
       "       [-0.38798871, -0.04265207,  0.30544191,  0.27257144],\n",
       "       [-0.14657351,  2.47157506, -1.64096031, -1.49914293],\n",
       "       [-1.35364949,  0.96303878, -1.22808711, -1.49914293],\n",
       "       [ 0.93979487,  0.71161607,  1.01322453,  1.09028577],\n",
       "       [-0.8708191 ,  0.96303878, -1.52299654, -1.49914293],\n",
       "       [-1.11223429, -2.55687919, -0.28437695, -0.40885716],\n",
       "       [ 1.30191766,  0.46019336,  0.42340568,  0.13628572],\n",
       "       [-0.14657351, -0.79692021, -0.04844941, -0.13628572],\n",
       "       [-1.59506468,  0.96303878, -1.52299654, -1.36285721],\n",
       "       [ 0.57767207,  0.20877065,  0.89526076,  0.6814286 ],\n",
       "       [ 0.45696448, -1.29976563,  0.54136945,  0.27257144],\n",
       "       [-0.99152669, -1.29976563, -0.57928637, -0.27257144],\n",
       "       [-1.83647988, -0.29407478, -1.52299654, -1.49914293],\n",
       "       [ 1.42262526, -0.04265207,  1.1311883 ,  1.09028577],\n",
       "       [-0.6294039 ,  2.22015235, -1.34605088, -1.22657149],\n",
       "       [ 0.57767207, -0.79692021,  0.77729699,  0.81771432],\n",
       "       [-1.23294189, -1.29976563,  0.30544191,  0.54514288],\n",
       "       [ 0.93979487,  0.20877065,  0.95424265,  1.49914293],\n",
       "       [-1.11223429,  0.46019336, -1.64096031, -1.49914293],\n",
       "       [ 0.81908727, -0.04265207,  0.24646002,  0.13628572],\n",
       "       [ 0.45696448, -1.80261106,  0.24646002,  0.        ],\n",
       "       [-0.14657351, -0.79692021,  0.65933322,  0.81771432],\n",
       "       [ 0.21554928, -1.04834292,  0.95424265,  0.13628572],\n",
       "       [ 1.06050246, -0.54549749,  0.48238756,  0.13628572],\n",
       "       [ 0.69837967,  0.46019336,  0.65933322,  0.95400005],\n",
       "       [ 2.14687084,  1.96872963,  1.60304338,  1.22657149],\n",
       "       [ 1.66404045, -0.29407478,  1.36711584,  0.6814286 ],\n",
       "       [-1.11223429, -0.04265207, -1.40503277, -1.49914293],\n",
       "       [ 0.93979487, -0.04265207,  0.60035133,  0.54514288],\n",
       "       [-0.02586591,  0.46019336,  0.48238756,  0.6814286 ],\n",
       "       [-1.23294189,  0.20877065, -1.46401465, -1.49914293],\n",
       "       [ 0.09484168,  0.96303878,  0.30544191,  0.40885716],\n",
       "       [ 1.18121006,  0.20877065,  0.54136945,  0.27257144],\n",
       "       [ 0.93979487, -1.29976563,  1.07220642,  0.6814286 ],\n",
       "       [-1.23294189, -0.04265207, -1.52299654, -1.49914293],\n",
       "       [ 0.45696448,  0.71161607,  0.42340568,  0.40885716],\n",
       "       [ 0.45696448,  0.96303878,  0.95424265,  1.49914293]])"
      ]
     },
     "execution_count": 59,
     "metadata": {},
     "output_type": "execute_result"
    }
   ],
   "source": [
    "std_scaler.fit_transform(x_train,x_test)"
   ]
  },
  {
   "cell_type": "code",
   "execution_count": 60,
   "id": "6bf72e16",
   "metadata": {},
   "outputs": [
    {
     "name": "stderr",
     "output_type": "stream",
     "text": [
      "/home/student/anaconda3/lib/python3.9/site-packages/sklearn/utils/validation.py:993: DataConversionWarning: A column-vector y was passed when a 1d array was expected. Please change the shape of y to (n_samples, ), for example using ravel().\n",
      "  y = column_or_1d(y, warn=True)\n"
     ]
    },
    {
     "data": {
      "text/plain": [
       "GaussianNB()"
      ]
     },
     "execution_count": 60,
     "metadata": {},
     "output_type": "execute_result"
    }
   ],
   "source": [
    "## Data is distributed normally hence Gaussian Dataset\n",
    "from sklearn.naive_bayes import GaussianNB \n",
    "model = GaussianNB()\n",
    "model.fit(x_train,y_train)"
   ]
  },
  {
   "cell_type": "code",
   "execution_count": 61,
   "id": "8d04ea20",
   "metadata": {},
   "outputs": [],
   "source": [
    "y_predict = model.predict(x_test)"
   ]
  },
  {
   "cell_type": "code",
   "execution_count": 62,
   "id": "8f1f3181",
   "metadata": {},
   "outputs": [
    {
     "data": {
      "text/plain": [
       "array([0, 0, 2, 2, 0, 0, 0, 0, 1, 0, 0, 1, 2, 2, 0, 0, 0, 0, 0, 1, 0, 0,\n",
       "       1, 1, 0, 0, 2, 0, 1, 1, 1, 0, 0, 2, 2, 1, 1, 2])"
      ]
     },
     "execution_count": 62,
     "metadata": {},
     "output_type": "execute_result"
    }
   ],
   "source": [
    "y_predict"
   ]
  },
  {
   "cell_type": "code",
   "execution_count": 126,
   "id": "f9154d19",
   "metadata": {},
   "outputs": [],
   "source": [
    "#y_test\n",
    "# for i in range(len(y_predict)):\n",
    "#       print(y_test[i],y_predict[i])"
   ]
  },
  {
   "cell_type": "markdown",
   "id": "c3f4d27a",
   "metadata": {},
   "source": [
    "## Confusion Matrix"
   ]
  },
  {
   "cell_type": "code",
   "execution_count": 125,
   "id": "55685e74",
   "metadata": {},
   "outputs": [
    {
     "data": {
      "image/png": "[encoded data removed]",
      "text/plain": [
       "<Figure size 432x288 with 2 Axes>"
      ]
     },
     "metadata": {
      "needs_background": "light"
     },
     "output_type": "display_data"
    }
   ],
   "source": [
    "from sklearn.metrics import confusion_matrix,ConfusionMatrixDisplay\n",
    "cm = confusion_matrix(y_test,y_predict)\n",
    "cm_d = ConfusionMatrixDisplay(cm).plot()"
   ]
  },
  {
   "cell_type": "markdown",
   "id": "dd14df5b",
   "metadata": {},
   "source": [
    "## Accuracy, Precision"
   ]
  },
  {
   "cell_type": "code",
   "execution_count": 124,
   "id": "2852dd78",
   "metadata": {},
   "outputs": [],
   "source": [
    "from sklearn.metrics import accuracy_score,precision_score,recall_score"
   ]
  },
  {
   "cell_type": "code",
   "execution_count": 65,
   "id": "48a77e5d",
   "metadata": {},
   "outputs": [
    {
     "data": {
      "text/plain": [
       "0.9736842105263158"
      ]
     },
     "execution_count": 65,
     "metadata": {},
     "output_type": "execute_result"
    }
   ],
   "source": [
    "acc_score = accuracy_score(y_test,y_predict)\n",
    "acc_score"
   ]
  },
  {
   "cell_type": "code",
   "execution_count": 66,
   "id": "02d4a975",
   "metadata": {},
   "outputs": [
    {
     "data": {
      "text/plain": [
       "0.9666666666666667"
      ]
     },
     "execution_count": 66,
     "metadata": {},
     "output_type": "execute_result"
    }
   ],
   "source": [
    "prec_score = precision_score(y_test,y_predict,average='macro')\n",
    "prec_score"
   ]
  },
  {
   "cell_type": "markdown",
   "id": "c3773d37",
   "metadata": {},
   "source": [
    "## User Input"
   ]
  },
  {
   "cell_type": "code",
   "execution_count": 74,
   "id": "a618a4a7",
   "metadata": {},
   "outputs": [],
   "source": [
    "X_new = np.array([[3, 2, 1, 0.2], [  4.9, 2.2, 3.8, 1.1 ], [  5.3, 2.5, 4.6, 1.9 ]])"
   ]
  },
  {
   "cell_type": "code",
   "execution_count": 75,
   "id": "9684785d",
   "metadata": {},
   "outputs": [
    {
     "name": "stdout",
     "output_type": "stream",
     "text": [
      "Prediction of Species: [0 1 1]\n"
     ]
    },
    {
     "name": "stderr",
     "output_type": "stream",
     "text": [
      "/home/student/anaconda3/lib/python3.9/site-packages/sklearn/base.py:450: UserWarning: X does not have valid feature names, but GaussianNB was fitted with feature names\n",
      "  warnings.warn(\n"
     ]
    }
   ],
   "source": [
    "prediction = model.predict(X_new)\n",
    "print(\"Prediction of Species: {}\".format(prediction))"
   ]
  },
  {
   "cell_type": "code",
   "execution_count": 82,
   "id": "3b693b42",
   "metadata": {},
   "outputs": [
    {
     "name": "stdout",
     "output_type": "stream",
     "text": [
      "[1]\n"
     ]
    },
    {
     "name": "stderr",
     "output_type": "stream",
     "text": [
      "/home/student/anaconda3/lib/python3.9/site-packages/sklearn/base.py:450: UserWarning: X does not have valid feature names, but GaussianNB was fitted with feature names\n",
      "  warnings.warn(\n"
     ]
    }
   ],
   "source": [
    "new_data = np.array([[2.5,3.6,4.2,1.2]])\n",
    "new_data = std_scaler.fit_transform(new_data)\n",
    "print(model.predict(new_data))"
   ]
  },
  {
   "cell_type": "code",
   "execution_count": 89,
   "id": "0e41e26c",
   "metadata": {},
   "outputs": [
    {
     "name": "stdout",
     "output_type": "stream",
     "text": [
      "[2]\n"
     ]
    },
    {
     "name": "stderr",
     "output_type": "stream",
     "text": [
      "/home/student/anaconda3/lib/python3.9/site-packages/sklearn/base.py:450: UserWarning: X does not have valid feature names, but StandardScaler was fitted with feature names\n",
      "  warnings.warn(\n",
      "/home/student/anaconda3/lib/python3.9/site-packages/sklearn/base.py:450: UserWarning: X does not have valid feature names, but GaussianNB was fitted with feature names\n",
      "  warnings.warn(\n"
     ]
    }
   ],
   "source": [
    "new_data = np.array([[2.5,3.6,4.2,1.2]])\n",
    "s_ff = std_scaler.fit(x_train)\n",
    "new_data = s_ff.transform(new_data)\n",
    "print(model.predict(new_data))"
   ]
  },
  {
   "cell_type": "code",
   "execution_count": 92,
   "id": "e13b02d0",
   "metadata": {},
   "outputs": [
    {
     "name": "stdout",
     "output_type": "stream",
     "text": [
      "[2]\n"
     ]
    },
    {
     "name": "stderr",
     "output_type": "stream",
     "text": [
      "/home/student/anaconda3/lib/python3.9/site-packages/sklearn/base.py:450: UserWarning: X does not have valid feature names, but StandardScaler was fitted with feature names\n",
      "  warnings.warn(\n",
      "/home/student/anaconda3/lib/python3.9/site-packages/sklearn/base.py:450: UserWarning: X does not have valid feature names, but GaussianNB was fitted with feature names\n",
      "  warnings.warn(\n"
     ]
    }
   ],
   "source": [
    "new_data = np.array([[5.1,3.5,1.4,0.2]])\n",
    "s_ff = std_scaler.fit(x_train)\n",
    "new_data = s_ff.transform(new_data)\n",
    "print(model.predict(new_data))"
   ]
  },
  {
   "cell_type": "code",
   "execution_count": 109,
   "id": "33f6d5fc",
   "metadata": {},
   "outputs": [
    {
     "name": "stdout",
     "output_type": "stream",
     "text": [
      "[1]\n"
     ]
    },
    {
     "name": "stderr",
     "output_type": "stream",
     "text": [
      "/home/student/anaconda3/lib/python3.9/site-packages/sklearn/base.py:450: UserWarning: X does not have valid feature names, but GaussianNB was fitted with feature names\n",
      "  warnings.warn(\n"
     ]
    }
   ],
   "source": [
    "new_d = np.array([[2,3,6,1.2]])\n",
    "new_d = std_scaler.fit_transform(new_d)\n",
    "print(model.predict(new_d))"
   ]
  },
  {
   "cell_type": "code",
   "execution_count": null,
   "id": "cf2f04d4",
   "metadata": {},
   "outputs": [],
   "source": []
  }
 ],
 "metadata": {
  "kernelspec": {
   "display_name": "Python 3 (ipykernel)",
   "language": "python",
   "name": "python3"
  },
  "language_info": {
   "codemirror_mode": {
    "name": "ipython",
    "version": 3
   },
   "file_extension": ".py",
   "mimetype": "text/x-python",
   "name": "python",
   "nbconvert_exporter": "python",
   "pygments_lexer": "ipython3",
   "version": "3.10.4"
  }
 },
 "nbformat": 4,
 "nbformat_minor": 5
}
